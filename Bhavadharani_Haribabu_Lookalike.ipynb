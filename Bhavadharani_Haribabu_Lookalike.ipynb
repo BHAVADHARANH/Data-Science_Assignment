{
 "cells": [
  {
   "cell_type": "markdown",
   "id": "ffd68fe8",
   "metadata": {},
   "source": [
    "# Lookalike Model\n",
    "This notebook builds a lookalike model to recommend 3 similar customers based on their profile and transaction history."
   ]
  },
  {
   "cell_type": "code",
   "execution_count": null,
   "id": "7d1d62f5",
   "metadata": {},
   "outputs": [],
   "source": [
    "\n",
    "# Import necessary libraries\n",
    "import pandas as pd\n",
    "import numpy as np\n",
    "from sklearn.preprocessing import StandardScaler\n",
    "from sklearn.metrics.pairwise import cosine_similarity\n",
    "\n",
    "# Load the datasets\n",
    "customers = pd.read_csv('/mnt/data/Customers.csv')\n",
    "products = pd.read_csv('/mnt/data/Products.csv')\n",
    "transactions = pd.read_excel('/mnt/data/Transactions.xlsx')\n",
    "\n",
    "# Merge the datasets\n",
    "merged_data = transactions.merge(customers, on=\"CustomerID\").merge(products, on=\"ProductID\")\n"
   ]
  },
  {
   "cell_type": "code",
   "execution_count": null,
   "id": "d9a9ee56",
   "metadata": {},
   "outputs": [],
   "source": [
    "\n",
    "# Feature Engineering\n",
    "customer_features = merged_data.groupby(\"CustomerID\").agg({\n",
    "    \"TotalValue\": \"sum\",\n",
    "    \"Quantity\": \"sum\",\n",
    "    \"Price\": \"mean\",\n",
    "    \"Region\": lambda x: x.mode()[0] if len(x.mode()) > 0 else np.nan\n",
    "}).reset_index()\n",
    "\n",
    "# Encode the 'Region' column\n",
    "customer_features = pd.get_dummies(customer_features, columns=[\"Region\"], drop_first=True)\n"
   ]
  },
  {
   "cell_type": "code",
   "execution_count": null,
   "id": "a9207e0e",
   "metadata": {},
   "outputs": [],
   "source": [
    "\n",
    "# Normalize the features\n",
    "scaler = StandardScaler()\n",
    "scaled_features = scaler.fit_transform(customer_features.iloc[:, 1:])\n",
    "\n",
    "# Compute cosine similarity\n",
    "similarity_matrix = cosine_similarity(scaled_features)\n",
    "similarity_df = pd.DataFrame(similarity_matrix, index=customer_features[\"CustomerID\"], columns=customer_features[\"CustomerID\"])\n"
   ]
  },
  {
   "cell_type": "code",
   "execution_count": null,
   "id": "2401c4c0",
   "metadata": {},
   "outputs": [],
   "source": [
    "\n",
    "# Generate lookalike recommendations for the first 20 customers\n",
    "lookalike_results = {}\n",
    "\n",
    "for customer_id in customer_features[\"CustomerID\"].head(20):\n",
    "    similar_customers = similarity_df[customer_id].sort_values(ascending=False).iloc[1:4]\n",
    "    lookalike_results[customer_id] = [(idx, round(score, 2)) for idx, score in similar_customers.items()]\n",
    "\n",
    "# Save the results to a CSV file\n",
    "lookalike_df = pd.DataFrame({\n",
    "    \"CustomerID\": lookalike_results.keys(),\n",
    "    \"Lookalikes\": [str(v) for v in lookalike_results.values()]\n",
    "})\n",
    "\n",
    "lookalike_df.to_csv('/mnt/data/Bhavadharani_Haribabu_Lookalike.csv', index=False)\n"
   ]
  },
  {
   "cell_type": "code",
   "execution_count": null,
   "id": "75ef9dc0",
   "metadata": {},
   "outputs": [],
   "source": [
    "\n",
    "# Display the Lookalike results\n",
    "lookalike_df.head()\n"
   ]
  }
 ],
 "metadata": {},
 "nbformat": 4,
 "nbformat_minor": 5
}
