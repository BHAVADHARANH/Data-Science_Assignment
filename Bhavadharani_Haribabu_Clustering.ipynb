{
 "cells": [
  {
   "cell_type": "markdown",
   "id": "4a6e56bf",
   "metadata": {},
   "source": [
    "# Customer Segmentation\n",
    "This notebook performs customer segmentation using clustering techniques on transaction and profile data."
   ]
  },
  {
   "cell_type": "code",
   "execution_count": null,
   "id": "ed43ed9d",
   "metadata": {},
   "outputs": [],
   "source": [
    "\n",
    "# Import necessary libraries\n",
    "import pandas as pd\n",
    "import numpy as np\n",
    "from sklearn.preprocessing import StandardScaler\n",
    "from sklearn.cluster import KMeans\n",
    "from sklearn.metrics import davies_bouldin_score\n",
    "import matplotlib.pyplot as plt\n",
    "import seaborn as sns\n",
    "\n",
    "# Load the datasets\n",
    "customers = pd.read_csv('/mnt/data/Customers.csv')\n",
    "transactions = pd.read_excel('/mnt/data/Transactions.xlsx')\n",
    "\n",
    "# Merge datasets for clustering\n",
    "customer_transactions = transactions.merge(customers, on=\"CustomerID\")\n",
    "\n",
    "# Aggregate transaction data\n",
    "customer_features = customer_transactions.groupby(\"CustomerID\").agg({\n",
    "    \"TotalValue\": \"sum\",\n",
    "    \"Quantity\": \"sum\",\n",
    "    \"TransactionID\": \"count\"\n",
    "}).rename(columns={\"TransactionID\": \"TransactionCount\"}).reset_index()\n"
   ]
  },
  {
   "cell_type": "code",
   "execution_count": null,
   "id": "3f0d77e3",
   "metadata": {},
   "outputs": [],
   "source": [
    "\n",
    "# Preprocessing and scaling\n",
    "scaler = StandardScaler()\n",
    "scaled_features = scaler.fit_transform(customer_features.iloc[:, 1:])\n",
    "\n",
    "# Perform clustering with KMeans\n",
    "kmeans = KMeans(n_clusters=4, random_state=42, n_init=10)\n",
    "clusters = kmeans.fit_predict(scaled_features)\n",
    "customer_features['Cluster'] = clusters\n",
    "\n",
    "# Calculate Davies-Bouldin Index\n",
    "db_index = davies_bouldin_score(scaled_features, clusters)\n",
    "print(f\"Davies-Bouldin Index: {db_index}\")\n"
   ]
  },
  {
   "cell_type": "code",
   "execution_count": null,
   "id": "a39ab464",
   "metadata": {},
   "outputs": [],
   "source": [
    "\n",
    "# Visualize clusters\n",
    "sns.pairplot(customer_features, hue=\"Cluster\", palette=\"Set2\", diag_kind=\"kde\")\n",
    "plt.title(\"Customer Segments\")\n",
    "plt.show()\n"
   ]
  },
  {
   "cell_type": "code",
   "execution_count": null,
   "id": "49e9354a",
   "metadata": {},
   "outputs": [],
   "source": [
    "\n",
    "# Save cluster results\n",
    "customer_features.to_csv('/mnt/data/Bhavadharani_Haribabu_Clustering.csv', index=False)\n"
   ]
  },
  {
   "cell_type": "code",
   "execution_count": null,
   "id": "a1cfdca9",
   "metadata": {},
   "outputs": [],
   "source": [
    "\n",
    "# Display cluster data\n",
    "customer_features.head()\n"
   ]
  }
 ],
 "metadata": {},
 "nbformat": 4,
 "nbformat_minor": 5
}
